{
  "nbformat": 4,
  "nbformat_minor": 0,
  "metadata": {
    "colab": {
      "name": "24_Course3_NLP-Week4-Exercise-Shakespeare-Question.ipynb",
      "provenance": [],
      "include_colab_link": true
    },
    "kernelspec": {
      "name": "python3",
      "display_name": "Python 3"
    },
    "accelerator": "GPU"
  },
  "cells": [
    {
      "cell_type": "markdown",
      "metadata": {
        "id": "view-in-github",
        "colab_type": "text"
      },
      "source": [
        "<a href=\"https://colab.research.google.com/github/redcican/TensorFlow-Specialization/blob/master/24_Course3_NLP_Week4_Exercise_Shakespeare_Question.ipynb\" target=\"_parent\"><img src=\"https://colab.research.google.com/assets/colab-badge.svg\" alt=\"Open In Colab\"/></a>"
      ]
    },
    {
      "cell_type": "code",
      "metadata": {
        "id": "BOwsuGQQY9OL",
        "colab_type": "code",
        "colab": {}
      },
      "source": [
        "from tensorflow.keras.preprocessing.sequence import pad_sequences\n",
        "from tensorflow.keras.layers import Embedding, LSTM, Dense, Dropout, Bidirectional\n",
        "from tensorflow.keras.preprocessing.text import Tokenizer\n",
        "from tensorflow.keras.models import Sequential\n",
        "from tensorflow.keras.optimizers import Adam\n",
        "### YOUR CODE HERE\n",
        "# Figure out how to import regularizers\n",
        "from tensorflow.keras import regularizers\n",
        "###\n",
        "import tensorflow.keras.utils as ku \n",
        "import numpy as np "
      ],
      "execution_count": 0,
      "outputs": []
    },
    {
      "cell_type": "code",
      "metadata": {
        "colab_type": "code",
        "id": "PRnDnCW-Z7qv",
        "colab": {
          "base_uri": "https://localhost:8080/",
          "height": 217
        },
        "outputId": "65633b02-d4a1-458b-8f40-931ad4f34989"
      },
      "source": [
        "tokenizer = Tokenizer()\n",
        "!wget --no-check-certificate \\\n",
        "    https://storage.googleapis.com/laurencemoroney-blog.appspot.com/sonnets.txt \\\n",
        "    -O /tmp/sonnets.txt\n",
        "data = open('/tmp/sonnets.txt').read()\n",
        "\n",
        "corpus = data.lower().split(\"\\n\")\n",
        "\n",
        "\n",
        "tokenizer.fit_on_texts(corpus)\n",
        "total_words = len(tokenizer.word_index) + 1\n",
        "\n",
        "# create input sequences using list of tokens\n",
        "input_sequences = []\n",
        "for line in corpus:\n",
        "\ttoken_list = tokenizer.texts_to_sequences([line])[0]\n",
        "\tfor i in range(1, len(token_list)):\n",
        "\t\tn_gram_sequence = token_list[:i+1]\n",
        "\t\tinput_sequences.append(n_gram_sequence)\n",
        "\n",
        "\n",
        "# pad sequences \n",
        "max_sequence_len = max([len(x) for x in input_sequences])\n",
        "input_sequences = np.array(pad_sequences(input_sequences, maxlen=max_sequence_len, padding='pre'))\n",
        "\n",
        "# create predictors and label\n",
        "predictors, label = input_sequences[:,:-1],input_sequences[:,-1]\n",
        "\n",
        "label = ku.to_categorical(label, num_classes=total_words)"
      ],
      "execution_count": 2,
      "outputs": [
        {
          "output_type": "stream",
          "text": [
            "--2019-10-05 13:13:41--  https://storage.googleapis.com/laurencemoroney-blog.appspot.com/sonnets.txt\n",
            "Resolving storage.googleapis.com (storage.googleapis.com)... 74.125.141.128, 2607:f8b0:400c:c06::80\n",
            "Connecting to storage.googleapis.com (storage.googleapis.com)|74.125.141.128|:443... connected.\n",
            "HTTP request sent, awaiting response... 200 OK\n",
            "Length: 93578 (91K) [text/plain]\n",
            "Saving to: ‘/tmp/sonnets.txt’\n",
            "\n",
            "/tmp/sonnets.txt    100%[===================>]  91.38K  --.-KB/s    in 0.001s  \n",
            "\n",
            "2019-10-05 13:13:46 (101 MB/s) - ‘/tmp/sonnets.txt’ saved [93578/93578]\n",
            "\n"
          ],
          "name": "stdout"
        }
      ]
    },
    {
      "cell_type": "code",
      "metadata": {
        "id": "w9vH8Y59ajYL",
        "colab_type": "code",
        "colab": {
          "base_uri": "https://localhost:8080/",
          "height": 399
        },
        "outputId": "9bff77a3-a29e-40b0-8b4b-f97f5f291776"
      },
      "source": [
        "model = Sequential()\n",
        "model.add(Embedding(total_words, 128, input_length=max_sequence_len-1))\n",
        "model.add(Bidirectional(LSTM(150, return_sequences=True)))\n",
        "model.add(Dropout(0.2))\n",
        "model.add(LSTM(128))\n",
        "model.add(Dense(total_words/2, activation='relu', kernel_regularizer=regularizers.l2(0.01)))\n",
        "model.add(Dense(total_words, activation='softmax'))\n",
        "# Pick an optimizer\n",
        "model.compile(loss='categorical_crossentropy', optimizer='adam', metrics=['accuracy'])\n",
        "print(model.summary())\n"
      ],
      "execution_count": 5,
      "outputs": [
        {
          "output_type": "stream",
          "text": [
            "Model: \"sequential_1\"\n",
            "_________________________________________________________________\n",
            "Layer (type)                 Output Shape              Param #   \n",
            "=================================================================\n",
            "embedding_1 (Embedding)      (None, 10, 128)           411008    \n",
            "_________________________________________________________________\n",
            "bidirectional_1 (Bidirection (None, 10, 300)           334800    \n",
            "_________________________________________________________________\n",
            "dropout_1 (Dropout)          (None, 10, 300)           0         \n",
            "_________________________________________________________________\n",
            "lstm_3 (LSTM)                (None, 128)               219648    \n",
            "_________________________________________________________________\n",
            "dense_1 (Dense)              (None, 1605)              207045    \n",
            "_________________________________________________________________\n",
            "dense_2 (Dense)              (None, 3211)              5156866   \n",
            "=================================================================\n",
            "Total params: 6,329,367\n",
            "Trainable params: 6,329,367\n",
            "Non-trainable params: 0\n",
            "_________________________________________________________________\n",
            "None\n"
          ],
          "name": "stdout"
        }
      ]
    },
    {
      "cell_type": "code",
      "metadata": {
        "id": "AIg2f1HBxqof",
        "colab_type": "code",
        "colab": {
          "base_uri": "https://localhost:8080/",
          "height": 1000
        },
        "outputId": "267a8690-9a5a-4881-f2ee-9b5ad2a7a626"
      },
      "source": [
        " history = model.fit(predictors, label, epochs=100, verbose=1)"
      ],
      "execution_count": 6,
      "outputs": [
        {
          "output_type": "stream",
          "text": [
            "WARNING:tensorflow:From /usr/local/lib/python3.6/dist-packages/tensorflow/python/ops/math_grad.py:1250: add_dispatch_support.<locals>.wrapper (from tensorflow.python.ops.array_ops) is deprecated and will be removed in a future version.\n",
            "Instructions for updating:\n",
            "Use tf.where in 2.0, which has the same broadcast rule as np.where\n",
            "Epoch 1/100\n",
            "15462/15462 [==============================] - 41s 3ms/sample - loss: 6.9194 - acc: 0.0195\n",
            "Epoch 2/100\n",
            "15462/15462 [==============================] - 39s 3ms/sample - loss: 6.4978 - acc: 0.0214\n",
            "Epoch 3/100\n",
            "15462/15462 [==============================] - 39s 3ms/sample - loss: 6.3863 - acc: 0.0270\n",
            "Epoch 4/100\n",
            "15462/15462 [==============================] - 39s 3ms/sample - loss: 6.2561 - acc: 0.0308\n",
            "Epoch 5/100\n",
            "15462/15462 [==============================] - 39s 3ms/sample - loss: 6.1565 - acc: 0.0371\n",
            "Epoch 6/100\n",
            "15462/15462 [==============================] - 39s 3ms/sample - loss: 6.0748 - acc: 0.0389\n",
            "Epoch 7/100\n",
            "15462/15462 [==============================] - 38s 2ms/sample - loss: 5.9804 - acc: 0.0395\n",
            "Epoch 8/100\n",
            "15462/15462 [==============================] - 39s 2ms/sample - loss: 5.8830 - acc: 0.0469\n",
            "Epoch 9/100\n",
            "15462/15462 [==============================] - 38s 2ms/sample - loss: 5.7716 - acc: 0.0493\n",
            "Epoch 10/100\n",
            "15462/15462 [==============================] - 39s 2ms/sample - loss: 5.6536 - acc: 0.0582\n",
            "Epoch 11/100\n",
            "15462/15462 [==============================] - 38s 2ms/sample - loss: 5.5229 - acc: 0.0661\n",
            "Epoch 12/100\n",
            "15462/15462 [==============================] - 39s 3ms/sample - loss: 5.4078 - acc: 0.0750\n",
            "Epoch 13/100\n",
            "15462/15462 [==============================] - 39s 3ms/sample - loss: 5.2866 - acc: 0.0827\n",
            "Epoch 14/100\n",
            "15462/15462 [==============================] - 40s 3ms/sample - loss: 5.1670 - acc: 0.0908\n",
            "Epoch 15/100\n",
            "15462/15462 [==============================] - 40s 3ms/sample - loss: 5.0545 - acc: 0.1001\n",
            "Epoch 16/100\n",
            "15462/15462 [==============================] - 40s 3ms/sample - loss: 4.9409 - acc: 0.1101\n",
            "Epoch 17/100\n",
            "15462/15462 [==============================] - 40s 3ms/sample - loss: 4.8220 - acc: 0.1207\n",
            "Epoch 18/100\n",
            "15462/15462 [==============================] - 40s 3ms/sample - loss: 4.7087 - acc: 0.1307\n",
            "Epoch 19/100\n",
            "15462/15462 [==============================] - 40s 3ms/sample - loss: 4.5889 - acc: 0.1420\n",
            "Epoch 20/100\n",
            "15462/15462 [==============================] - 40s 3ms/sample - loss: 4.4747 - acc: 0.1539\n",
            "Epoch 21/100\n",
            "15462/15462 [==============================] - 40s 3ms/sample - loss: 4.3538 - acc: 0.1689\n",
            "Epoch 22/100\n",
            "15462/15462 [==============================] - 40s 3ms/sample - loss: 4.2348 - acc: 0.1841\n",
            "Epoch 23/100\n",
            "15462/15462 [==============================] - 39s 3ms/sample - loss: 4.1143 - acc: 0.2022\n",
            "Epoch 24/100\n",
            "15462/15462 [==============================] - 39s 3ms/sample - loss: 4.0017 - acc: 0.2172\n",
            "Epoch 25/100\n",
            "15462/15462 [==============================] - 39s 3ms/sample - loss: 3.8819 - acc: 0.2383\n",
            "Epoch 26/100\n",
            "15462/15462 [==============================] - 39s 3ms/sample - loss: 3.7608 - acc: 0.2610\n",
            "Epoch 27/100\n",
            "15462/15462 [==============================] - 39s 3ms/sample - loss: 3.6529 - acc: 0.2775\n",
            "Epoch 28/100\n",
            "15462/15462 [==============================] - 39s 2ms/sample - loss: 3.5495 - acc: 0.2994\n",
            "Epoch 29/100\n",
            "15462/15462 [==============================] - 39s 3ms/sample - loss: 3.4360 - acc: 0.3267\n",
            "Epoch 30/100\n",
            "15462/15462 [==============================] - 39s 3ms/sample - loss: 3.3261 - acc: 0.3495\n",
            "Epoch 31/100\n",
            "15462/15462 [==============================] - 39s 3ms/sample - loss: 3.2242 - acc: 0.3732\n",
            "Epoch 32/100\n",
            "15462/15462 [==============================] - 39s 3ms/sample - loss: 3.1299 - acc: 0.3961\n",
            "Epoch 33/100\n",
            "15462/15462 [==============================] - 39s 3ms/sample - loss: 3.0328 - acc: 0.4142\n",
            "Epoch 34/100\n",
            "15462/15462 [==============================] - 39s 3ms/sample - loss: 2.9568 - acc: 0.4353\n",
            "Epoch 35/100\n",
            "15462/15462 [==============================] - 39s 3ms/sample - loss: 2.8552 - acc: 0.4536\n",
            "Epoch 36/100\n",
            "15462/15462 [==============================] - 38s 2ms/sample - loss: 2.7880 - acc: 0.4730\n",
            "Epoch 37/100\n",
            "15462/15462 [==============================] - 38s 2ms/sample - loss: 2.6944 - acc: 0.4970\n",
            "Epoch 38/100\n",
            "15462/15462 [==============================] - 38s 2ms/sample - loss: 2.6194 - acc: 0.5109\n",
            "Epoch 39/100\n",
            "15462/15462 [==============================] - 38s 2ms/sample - loss: 2.5539 - acc: 0.5279\n",
            "Epoch 40/100\n",
            "15462/15462 [==============================] - 38s 2ms/sample - loss: 2.4867 - acc: 0.5406\n",
            "Epoch 41/100\n",
            "15462/15462 [==============================] - 38s 2ms/sample - loss: 2.4195 - acc: 0.5565\n",
            "Epoch 42/100\n",
            "15462/15462 [==============================] - 38s 2ms/sample - loss: 2.3539 - acc: 0.5731\n",
            "Epoch 43/100\n",
            "15462/15462 [==============================] - 38s 2ms/sample - loss: 2.2957 - acc: 0.5843\n",
            "Epoch 44/100\n",
            "15462/15462 [==============================] - 38s 2ms/sample - loss: 2.2457 - acc: 0.5927\n",
            "Epoch 45/100\n",
            "15462/15462 [==============================] - 38s 2ms/sample - loss: 2.1947 - acc: 0.6061\n",
            "Epoch 46/100\n",
            "15462/15462 [==============================] - 38s 2ms/sample - loss: 2.1480 - acc: 0.6173\n",
            "Epoch 47/100\n",
            "15462/15462 [==============================] - 38s 2ms/sample - loss: 2.0907 - acc: 0.6257\n",
            "Epoch 48/100\n",
            "15462/15462 [==============================] - 38s 2ms/sample - loss: 2.0385 - acc: 0.6402\n",
            "Epoch 49/100\n",
            "15462/15462 [==============================] - 38s 2ms/sample - loss: 1.9959 - acc: 0.6470\n",
            "Epoch 50/100\n",
            "15462/15462 [==============================] - 38s 2ms/sample - loss: 1.9537 - acc: 0.6551\n",
            "Epoch 51/100\n",
            "15462/15462 [==============================] - 37s 2ms/sample - loss: 1.9150 - acc: 0.6623\n",
            "Epoch 52/100\n",
            "15462/15462 [==============================] - 37s 2ms/sample - loss: 1.8749 - acc: 0.6735\n",
            "Epoch 53/100\n",
            "15462/15462 [==============================] - 37s 2ms/sample - loss: 1.8453 - acc: 0.6769\n",
            "Epoch 54/100\n",
            "15462/15462 [==============================] - 37s 2ms/sample - loss: 1.8072 - acc: 0.6876\n",
            "Epoch 55/100\n",
            "15462/15462 [==============================] - 37s 2ms/sample - loss: 1.7616 - acc: 0.6955\n",
            "Epoch 56/100\n",
            "15462/15462 [==============================] - 37s 2ms/sample - loss: 1.7400 - acc: 0.6991\n",
            "Epoch 57/100\n",
            "15462/15462 [==============================] - 37s 2ms/sample - loss: 1.6964 - acc: 0.7061\n",
            "Epoch 58/100\n",
            "15462/15462 [==============================] - 37s 2ms/sample - loss: 1.6785 - acc: 0.7108\n",
            "Epoch 59/100\n",
            "15462/15462 [==============================] - 37s 2ms/sample - loss: 1.6549 - acc: 0.7130\n",
            "Epoch 60/100\n",
            "15462/15462 [==============================] - 37s 2ms/sample - loss: 1.6054 - acc: 0.7277\n",
            "Epoch 61/100\n",
            "15462/15462 [==============================] - 37s 2ms/sample - loss: 1.5766 - acc: 0.7343\n",
            "Epoch 62/100\n",
            "15462/15462 [==============================] - 37s 2ms/sample - loss: 1.5655 - acc: 0.7317\n",
            "Epoch 63/100\n",
            "15462/15462 [==============================] - 37s 2ms/sample - loss: 1.5439 - acc: 0.7354\n",
            "Epoch 64/100\n",
            "15462/15462 [==============================] - 37s 2ms/sample - loss: 1.5147 - acc: 0.7417\n",
            "Epoch 65/100\n",
            "15462/15462 [==============================] - 37s 2ms/sample - loss: 1.4847 - acc: 0.7502\n",
            "Epoch 66/100\n",
            "15462/15462 [==============================] - 37s 2ms/sample - loss: 1.4703 - acc: 0.7516\n",
            "Epoch 67/100\n",
            "15462/15462 [==============================] - 38s 2ms/sample - loss: 1.4592 - acc: 0.7501\n",
            "Epoch 68/100\n",
            "15462/15462 [==============================] - 37s 2ms/sample - loss: 1.4243 - acc: 0.7556\n",
            "Epoch 69/100\n",
            "15462/15462 [==============================] - 37s 2ms/sample - loss: 1.4222 - acc: 0.7560\n",
            "Epoch 70/100\n",
            "15462/15462 [==============================] - 37s 2ms/sample - loss: 1.3879 - acc: 0.7656\n",
            "Epoch 71/100\n",
            "15462/15462 [==============================] - 37s 2ms/sample - loss: 1.3664 - acc: 0.7676\n",
            "Epoch 72/100\n",
            "15462/15462 [==============================] - 37s 2ms/sample - loss: 1.3452 - acc: 0.7711\n",
            "Epoch 73/100\n",
            "15462/15462 [==============================] - 37s 2ms/sample - loss: 1.3292 - acc: 0.7711\n",
            "Epoch 74/100\n",
            "15462/15462 [==============================] - 37s 2ms/sample - loss: 1.3176 - acc: 0.7764\n",
            "Epoch 75/100\n",
            "15462/15462 [==============================] - 37s 2ms/sample - loss: 1.3134 - acc: 0.7765\n",
            "Epoch 76/100\n",
            "15462/15462 [==============================] - 37s 2ms/sample - loss: 1.2969 - acc: 0.7768\n",
            "Epoch 77/100\n",
            "15462/15462 [==============================] - 37s 2ms/sample - loss: 1.2699 - acc: 0.7838\n",
            "Epoch 78/100\n",
            "15462/15462 [==============================] - 37s 2ms/sample - loss: 1.2668 - acc: 0.7818\n",
            "Epoch 79/100\n",
            "15462/15462 [==============================] - 38s 2ms/sample - loss: 1.2487 - acc: 0.7886\n",
            "Epoch 80/100\n",
            "15462/15462 [==============================] - 37s 2ms/sample - loss: 1.2299 - acc: 0.7899\n",
            "Epoch 81/100\n",
            "15462/15462 [==============================] - 37s 2ms/sample - loss: 1.2169 - acc: 0.7912\n",
            "Epoch 82/100\n",
            "15462/15462 [==============================] - 37s 2ms/sample - loss: 1.2190 - acc: 0.7919\n",
            "Epoch 83/100\n",
            "15462/15462 [==============================] - 36s 2ms/sample - loss: 1.2076 - acc: 0.7888\n",
            "Epoch 84/100\n",
            "15462/15462 [==============================] - 36s 2ms/sample - loss: 1.1802 - acc: 0.7966\n",
            "Epoch 85/100\n",
            "15462/15462 [==============================] - 36s 2ms/sample - loss: 1.1643 - acc: 0.8014\n",
            "Epoch 86/100\n",
            "15462/15462 [==============================] - 37s 2ms/sample - loss: 1.1636 - acc: 0.7967\n",
            "Epoch 87/100\n",
            "15462/15462 [==============================] - 37s 2ms/sample - loss: 1.1513 - acc: 0.8018\n",
            "Epoch 88/100\n",
            "15462/15462 [==============================] - 37s 2ms/sample - loss: 1.1378 - acc: 0.8021\n",
            "Epoch 89/100\n",
            "15462/15462 [==============================] - 38s 2ms/sample - loss: 1.1266 - acc: 0.8082\n",
            "Epoch 90/100\n",
            "15462/15462 [==============================] - 38s 2ms/sample - loss: 1.1182 - acc: 0.8063\n",
            "Epoch 91/100\n",
            "15462/15462 [==============================] - 37s 2ms/sample - loss: 1.1004 - acc: 0.8079\n",
            "Epoch 92/100\n",
            "15462/15462 [==============================] - 37s 2ms/sample - loss: 1.1043 - acc: 0.8088\n",
            "Epoch 93/100\n",
            "15462/15462 [==============================] - 36s 2ms/sample - loss: 1.1134 - acc: 0.8092\n",
            "Epoch 94/100\n",
            "15462/15462 [==============================] - 37s 2ms/sample - loss: 1.0948 - acc: 0.8068\n",
            "Epoch 95/100\n",
            "15462/15462 [==============================] - 37s 2ms/sample - loss: 1.0945 - acc: 0.8074\n",
            "Epoch 96/100\n",
            "15462/15462 [==============================] - 37s 2ms/sample - loss: 1.0719 - acc: 0.8144\n",
            "Epoch 97/100\n",
            "15462/15462 [==============================] - 37s 2ms/sample - loss: 1.0517 - acc: 0.8170\n",
            "Epoch 98/100\n",
            "15462/15462 [==============================] - 37s 2ms/sample - loss: 1.0490 - acc: 0.8176\n",
            "Epoch 99/100\n",
            "15462/15462 [==============================] - 37s 2ms/sample - loss: 1.0508 - acc: 0.8136\n",
            "Epoch 100/100\n",
            "15462/15462 [==============================] - 37s 2ms/sample - loss: 1.0528 - acc: 0.8130\n"
          ],
          "name": "stdout"
        }
      ]
    },
    {
      "cell_type": "code",
      "metadata": {
        "id": "1fXTEO3GJ282",
        "colab_type": "code",
        "colab": {
          "base_uri": "https://localhost:8080/",
          "height": 545
        },
        "outputId": "a6c214c1-56bf-4839-f440-24bd44cf7c85"
      },
      "source": [
        "import matplotlib.pyplot as plt\n",
        "acc = history.history['acc']\n",
        "loss = history.history['loss']\n",
        "\n",
        "epochs = range(len(acc))\n",
        "\n",
        "plt.plot(epochs, acc, 'b', label='Training accuracy')\n",
        "plt.title('Training accuracy')\n",
        "\n",
        "plt.figure()\n",
        "\n",
        "plt.plot(epochs, loss, 'b', label='Training Loss')\n",
        "plt.title('Training loss')\n",
        "plt.legend()\n",
        "\n",
        "plt.show()"
      ],
      "execution_count": 7,
      "outputs": [
        {
          "output_type": "display_data",
          "data": {
            "image/png": "[encoded data removed]",
            "text/plain": [
              "<Figure size 432x288 with 1 Axes>"
            ]
          },
          "metadata": {
            "tags": []
          }
        },
        {
          "output_type": "display_data",
          "data": {
            "image/png": "[encoded data removed]",
            "text/plain": [
              "<Figure size 432x288 with 1 Axes>"
            ]
          },
          "metadata": {
            "tags": []
          }
        }
      ]
    },
    {
      "cell_type": "code",
      "metadata": {
        "id": "6Vc6PHgxa6Hm",
        "colab_type": "code",
        "colab": {
          "base_uri": "https://localhost:8080/",
          "height": 55
        },
        "outputId": "4912f719-364e-46d5-fb31-2914cf5e8006"
      },
      "source": [
        "seed_text = \"Help me Obi Wan Kenobi, you're my only hope\"\n",
        "next_words = 100\n",
        "  \n",
        "for _ in range(next_words):\n",
        "\ttoken_list = tokenizer.texts_to_sequences([seed_text])[0]\n",
        "\ttoken_list = pad_sequences([token_list], maxlen=max_sequence_len-1, padding='pre')\n",
        "\tpredicted = model.predict_classes(token_list, verbose=0)\n",
        "\toutput_word = \"\"\n",
        "\tfor word, index in tokenizer.word_index.items():\n",
        "\t\tif index == predicted:\n",
        "\t\t\toutput_word = word\n",
        "\t\t\tbreak\n",
        "\tseed_text += \" \" + output_word\n",
        "print(seed_text)"
      ],
      "execution_count": 8,
      "outputs": [
        {
          "output_type": "stream",
          "text": [
            "Help me Obi Wan Kenobi, you're my only hope should bear their way staineth place ' back something good fall from thee so most deeds of dwell of pride all ' belongs to me worth back clears with good hour hate cold aside ye quite abuse me back knowing thee sinful hate clears quite abuse me now these head die live to so old spent still new smells write of my heart to thee still show those place ' brought to thee they live remains old loss in thee make now say others others stand mother dead prove to none none afford afford ye back back back pass back\n"
          ],
          "name": "stdout"
        }
      ]
    },
    {
      "cell_type": "code",
      "metadata": {
        "id": "PYmkhntsfucV",
        "colab_type": "code",
        "colab": {
          "base_uri": "https://localhost:8080/",
          "height": 54
        },
        "outputId": "67333385-393e-434c-ba2f-d602e177a59f"
      },
      "source": [
        "token_list"
      ],
      "execution_count": 9,
      "outputs": [
        {
          "output_type": "execute_result",
          "data": {
            "text/plain": [
              "array([[   3,  189,  189, 2311, 2311, 1121,  259,  259,  259,  783]],\n",
              "      dtype=int32)"
            ]
          },
          "metadata": {
            "tags": []
          },
          "execution_count": 9
        }
      ]
    },
    {
      "cell_type": "code",
      "metadata": {
        "id": "sT7-wrokfzIC",
        "colab_type": "code",
        "colab": {
          "base_uri": "https://localhost:8080/",
          "height": 54
        },
        "outputId": "26eec212-cb01-42f8-e6d5-deeb6ee1e82e"
      },
      "source": [
        "token_list[0]"
      ],
      "execution_count": 10,
      "outputs": [
        {
          "output_type": "execute_result",
          "data": {
            "text/plain": [
              "array([   3,  189,  189, 2311, 2311, 1121,  259,  259,  259,  783],\n",
              "      dtype=int32)"
            ]
          },
          "metadata": {
            "tags": []
          },
          "execution_count": 10
        }
      ]
    },
    {
      "cell_type": "code",
      "metadata": {
        "id": "IrWI65Lpf2eC",
        "colab_type": "code",
        "colab": {}
      },
      "source": [
        ""
      ],
      "execution_count": 0,
      "outputs": []
    }
  ]
}